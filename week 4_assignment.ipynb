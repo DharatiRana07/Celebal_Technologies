{
 "cells": [
  {
   "cell_type": "code",
   "execution_count": 1,
   "metadata": {},
   "outputs": [],
   "source": [
    "import numpy as np\n",
    "import pandas as pd\n",
    "import seaborn as sns\n",
    "from matplotlib import pyplot as plt\n",
    "import missingno as msno\n",
    "from datetime import date\n",
    "from sklearn.metrics import accuracy_score\n",
    "from sklearn.model_selection import train_test_split\n",
    "from sklearn.neighbors import LocalOutlierFactor\n",
    "from sklearn.preprocessing import MinMaxScaler, LabelEncoder, StandardScaler, RobustScaler"
   ]
  },
  {
   "cell_type": "code",
   "execution_count": 6,
   "metadata": {},
   "outputs": [
    {
     "name": "stdout",
     "output_type": "stream",
     "text": [
      "(307511, 122)\n"
     ]
    }
   ],
   "source": [
    "def load_application_train():\n",
    "    data = pd.read_csv(\"application_train.csv\")\n",
    "    return data\n",
    "df = load_application_train()\n",
    "print(df.shape) "
   ]
  },
  {
   "cell_type": "code",
   "execution_count": 8,
   "metadata": {},
   "outputs": [
    {
     "name": "stdout",
     "output_type": "stream",
     "text": [
      "(891, 12)\n"
     ]
    }
   ],
   "source": [
    "def load():\n",
    "    data = pd.read_csv(\"titanic.csv\")\n",
    "    return data\n",
    "df = load()\n",
    "print(df.shape) "
   ]
  },
  {
   "cell_type": "code",
   "execution_count": 9,
   "metadata": {},
   "outputs": [
    {
     "data": {
      "image/png": "[encoded data removed]",
      "text/plain": [
       "<Figure size 640x480 with 1 Axes>"
      ]
     },
     "metadata": {},
     "output_type": "display_data"
    }
   ],
   "source": [
    "sns.boxplot(x=df[\"Age\"])\n",
    "plt.show()"
   ]
  },
  {
   "cell_type": "code",
   "execution_count": 10,
   "metadata": {},
   "outputs": [
    {
     "name": "stdout",
     "output_type": "stream",
     "text": [
      "     PassengerId  Survived  Pclass                                  Name  \\\n",
      "33            34         0       2                 Wheadon, Mr. Edward H   \n",
      "54            55         0       1        Ostby, Mr. Engelhart Cornelius   \n",
      "96            97         0       1             Goldschmidt, Mr. George B   \n",
      "116          117         0       3                  Connors, Mr. Patrick   \n",
      "280          281         0       3                      Duane, Mr. Frank   \n",
      "456          457         0       1             Millet, Mr. Francis Davis   \n",
      "493          494         0       1               Artagaveytia, Mr. Ramon   \n",
      "630          631         1       1  Barkworth, Mr. Algernon Henry Wilson   \n",
      "672          673         0       2           Mitchell, Mr. Henry Michael   \n",
      "745          746         0       1          Crosby, Capt. Edward Gifford   \n",
      "851          852         0       3                   Svensson, Mr. Johan   \n",
      "\n",
      "      Sex   Age  SibSp  Parch      Ticket     Fare Cabin Embarked  \n",
      "33   male  66.0      0      0  C.A. 24579  10.5000   NaN        S  \n",
      "54   male  65.0      0      1      113509  61.9792   B30        C  \n",
      "96   male  71.0      0      0    PC 17754  34.6542    A5        C  \n",
      "116  male  70.5      0      0      370369   7.7500   NaN        Q  \n",
      "280  male  65.0      0      0      336439   7.7500   NaN        Q  \n",
      "456  male  65.0      0      0       13509  26.5500   E38        S  \n",
      "493  male  71.0      0      0    PC 17609  49.5042   NaN        C  \n",
      "630  male  80.0      0      0       27042  30.0000   A23        S  \n",
      "672  male  70.0      0      0  C.A. 24580  10.5000   NaN        S  \n",
      "745  male  70.0      1      1   WE/P 5735  71.0000   B22        S  \n",
      "851  male  74.0      0      0      347060   7.7750   NaN        S  \n"
     ]
    }
   ],
   "source": [
    "q1 = df[\"Age\"].quantile(0.25)\n",
    "q3 = df[\"Age\"].quantile(0.75)\n",
    "iqr = q3 - q1\n",
    "up = q3 + 1.5 * iqr\n",
    "low = q1 - 1.5 * iqr\n",
    "\n",
    "\n",
    "\n",
    "\n",
    "#Now see outliers\n",
    "print(df[(df[\"Age\"] < low) | (df[\"Age\"] > up)])\n",
    "\n"
   ]
  },
  {
   "cell_type": "code",
   "execution_count": 11,
   "metadata": {},
   "outputs": [
    {
     "name": "stdout",
     "output_type": "stream",
     "text": [
      "Index([33, 54, 96, 116, 280, 456, 493, 630, 672, 745, 851], dtype='int64')\n"
     ]
    }
   ],
   "source": [
    "#Index of outliers\n",
    "print(df[(df[\"Age\"] < low) | (df[\"Age\"] > up)].index)"
   ]
  },
  {
   "cell_type": "code",
   "execution_count": 12,
   "metadata": {},
   "outputs": [
    {
     "name": "stdout",
     "output_type": "stream",
     "text": [
      "True\n"
     ]
    }
   ],
   "source": [
    "print(df[(df[\"Age\"] < low) | (df[\"Age\"] > up)].any(axis=None))  "
   ]
  },
  {
   "cell_type": "code",
   "execution_count": 13,
   "metadata": {},
   "outputs": [
    {
     "name": "stdout",
     "output_type": "stream",
     "text": [
      "False\n"
     ]
    }
   ],
   "source": [
    "print(df[(df[\"Age\"] < low)].any(axis=None))  "
   ]
  },
  {
   "cell_type": "code",
   "execution_count": 14,
   "metadata": {},
   "outputs": [
    {
     "name": "stdout",
     "output_type": "stream",
     "text": [
      "(-6.6875, 64.8125)\n"
     ]
    }
   ],
   "source": [
    "def outlier_thresholds(dataframe, col_name, q1=0.25, q3=0.75):\n",
    "    quartile1 = dataframe[col_name].quantile(q1)\n",
    "    quartile3 = dataframe[col_name].quantile(q3)\n",
    "    interquantile_range = quartile3 - quartile1\n",
    "    up_limit = quartile3 + 1.5 * interquantile_range\n",
    "    low_limit = quartile1 - 1.5 * interquantile_range\n",
    "    return low_limit, up_limit\n",
    "\n",
    "\n",
    "\n",
    "\n",
    "print(outlier_thresholds(df, \"Age\"))"
   ]
  },
  {
   "cell_type": "code",
   "execution_count": 15,
   "metadata": {},
   "outputs": [
    {
     "name": "stdout",
     "output_type": "stream",
     "text": [
      "    PassengerId  Survived  Pclass  \\\n",
      "1             2         1       1   \n",
      "27           28         0       1   \n",
      "31           32         1       1   \n",
      "34           35         0       1   \n",
      "52           53         1       1   \n",
      "\n",
      "                                                 Name     Sex   Age  SibSp  \\\n",
      "1   Cumings, Mrs. John Bradley (Florence Briggs Th...  female  38.0      1   \n",
      "27                     Fortune, Mr. Charles Alexander    male  19.0      3   \n",
      "31     Spencer, Mrs. William Augustus (Marie Eugenie)  female   NaN      1   \n",
      "34                            Meyer, Mr. Edgar Joseph    male  28.0      1   \n",
      "52           Harper, Mrs. Henry Sleeper (Myna Haxtun)  female  49.0      1   \n",
      "\n",
      "    Parch    Ticket      Fare        Cabin Embarked  \n",
      "1       0  PC 17599   71.2833          C85        C  \n",
      "27      2     19950  263.0000  C23 C25 C27        S  \n",
      "31      0  PC 17569  146.5208          B78        C  \n",
      "34      0  PC 17604   82.1708          NaN        C  \n",
      "52      0  PC 17572   76.7292          D33        C  \n"
     ]
    }
   ],
   "source": [
    "low, up = outlier_thresholds(df, \"Fare\")\n",
    "print(df[(df[\"Fare\"] < low) | (df[\"Fare\"] > up)].head())\n"
   ]
  },
  {
   "cell_type": "code",
   "execution_count": 16,
   "metadata": {},
   "outputs": [
    {
     "name": "stdout",
     "output_type": "stream",
     "text": [
      "True\n",
      "True\n"
     ]
    }
   ],
   "source": [
    "#Write a function that check if there is any outliers.\n",
    "def check_outlier(dataframe, col_name):\n",
    "    low_limit, up_limit = outlier_thresholds(dataframe, col_name)\n",
    "    if dataframe[(dataframe[col_name] > up_limit) | (dataframe[col_name] < low_limit)].any(axis=None):\n",
    "        return True\n",
    "    else:\n",
    "        return False\n",
    "\n",
    "print(check_outlier(df, \"Age\"))    \n",
    "print(check_outlier(df, \"Fare\")) "
   ]
  },
  {
   "cell_type": "code",
   "execution_count": 18,
   "metadata": {},
   "outputs": [
    {
     "name": "stdout",
     "output_type": "stream",
     "text": [
      "Observations: 891\n",
      "Variables: 12\n",
      "cat_cols: 6\n",
      "num_cols: 3\n",
      "cat_but_car: 3\n",
      "num_but_cat: 4\n"
     ]
    }
   ],
   "source": [
    "#We will try to grab categorical columns, categorical but cardinal columns and\n",
    "#numerical columns. \n",
    "\n",
    "def grab_col_names(dataframe, cat_th=10, car_th=20):\n",
    "    cat_cols = [col for col in dataframe.columns if dataframe[col].dtypes == \"O\"]\n",
    "    num_but_cat = [col for col in dataframe.columns if dataframe[col].nunique() < cat_th and dataframe[col].dtypes != \"O\"]\n",
    "    cat_but_car = [col for col in dataframe.columns if dataframe[col].nunique() > car_th and dataframe[col].dtypes == \"O\"]\n",
    "    cat_cols = cat_cols + num_but_cat\n",
    "    cat_cols = [col for col in cat_cols if col not in cat_but_car]\n",
    "    num_cols = [col for col in dataframe.columns if dataframe[col].dtypes != \"O\" and col not in num_but_cat]\n",
    "\n",
    "    print(f\"Observations: {dataframe.shape[0]}\")\n",
    "    print(f\"Variables: {dataframe.shape[1]}\")\n",
    "    print(f\"cat_cols: {len(cat_cols)}\")\n",
    "    print(f\"num_cols: {len(num_cols)}\")\n",
    "    print(f\"cat_but_car: {len(cat_but_car)}\")\n",
    "    print(f\"num_but_cat: {len(num_but_cat)}\")\n",
    "\n",
    "    return cat_cols, num_cols, cat_but_car\n",
    "\n",
    "\n",
    "\n",
    "\n",
    "cat_cols, num_cols, cat_but_car = grab_col_names(df)"
   ]
  },
  {
   "cell_type": "code",
   "execution_count": 19,
   "metadata": {},
   "outputs": [
    {
     "name": "stdout",
     "output_type": "stream",
     "text": [
      "['Age', 'Fare']\n"
     ]
    }
   ],
   "source": [
    "num_cols = [col for col in num_cols if col not in \"PassengerId\"]\n",
    "print(num_cols)"
   ]
  },
  {
   "cell_type": "code",
   "execution_count": 20,
   "metadata": {},
   "outputs": [
    {
     "name": "stdout",
     "output_type": "stream",
     "text": [
      "Age True\n",
      "Fare True\n"
     ]
    }
   ],
   "source": [
    "#We will check outliers in numerical columns.\n",
    "for col in num_cols:\n",
    "    print(col, check_outlier(df, col))"
   ]
  },
  {
   "cell_type": "code",
   "execution_count": 21,
   "metadata": {},
   "outputs": [
    {
     "name": "stdout",
     "output_type": "stream",
     "text": [
      "Observations: 307511\n",
      "Variables: 122\n",
      "cat_cols: 54\n",
      "num_cols: 67\n",
      "cat_but_car: 1\n",
      "num_but_cat: 39\n"
     ]
    }
   ],
   "source": [
    "#Let's import application_train.csv\n",
    "dff = load_application_train()\n",
    "\n",
    "cat_cols, num_cols, cat_but_car = grab_col_names(dff)"
   ]
  },
  {
   "cell_type": "code",
   "execution_count": 22,
   "metadata": {},
   "outputs": [
    {
     "name": "stdout",
     "output_type": "stream",
     "text": [
      "\n",
      "\n"
     ]
    }
   ],
   "source": [
    "#Although 'SK_ID_CURR' is a numerical column, it is irrelevant for us. Therefore,\n",
    "#we will remove it from num_cols\n",
    "num_cols.remove('SK_ID_CURR')\n",
    "\n",
    "print()\n",
    "print()"
   ]
  },
  {
   "cell_type": "code",
   "execution_count": 23,
   "metadata": {},
   "outputs": [
    {
     "name": "stdout",
     "output_type": "stream",
     "text": [
      "CNT_CHILDREN True\n",
      "AMT_INCOME_TOTAL True\n",
      "AMT_CREDIT True\n",
      "AMT_ANNUITY True\n",
      "AMT_GOODS_PRICE True\n",
      "REGION_POPULATION_RELATIVE True\n",
      "DAYS_BIRTH False\n",
      "DAYS_EMPLOYED True\n",
      "DAYS_REGISTRATION True\n",
      "DAYS_ID_PUBLISH False\n",
      "OWN_CAR_AGE True\n",
      "CNT_FAM_MEMBERS True\n",
      "HOUR_APPR_PROCESS_START True\n",
      "EXT_SOURCE_1 False\n",
      "EXT_SOURCE_2 False\n",
      "EXT_SOURCE_3 False\n",
      "APARTMENTS_AVG True\n",
      "BASEMENTAREA_AVG True\n",
      "YEARS_BEGINEXPLUATATION_AVG True\n",
      "YEARS_BUILD_AVG True\n",
      "COMMONAREA_AVG True\n",
      "ELEVATORS_AVG True\n",
      "ENTRANCES_AVG True\n",
      "FLOORSMAX_AVG True\n",
      "FLOORSMIN_AVG True\n",
      "LANDAREA_AVG True\n",
      "LIVINGAPARTMENTS_AVG True\n",
      "LIVINGAREA_AVG True\n",
      "NONLIVINGAPARTMENTS_AVG True\n",
      "NONLIVINGAREA_AVG True\n",
      "APARTMENTS_MODE True\n",
      "BASEMENTAREA_MODE True\n",
      "YEARS_BEGINEXPLUATATION_MODE True\n",
      "YEARS_BUILD_MODE True\n",
      "COMMONAREA_MODE True\n",
      "ELEVATORS_MODE True\n",
      "ENTRANCES_MODE True\n",
      "FLOORSMAX_MODE True\n",
      "FLOORSMIN_MODE True\n",
      "LANDAREA_MODE True\n",
      "LIVINGAPARTMENTS_MODE True\n",
      "LIVINGAREA_MODE True\n",
      "NONLIVINGAPARTMENTS_MODE True\n",
      "NONLIVINGAREA_MODE True\n",
      "APARTMENTS_MEDI True\n",
      "BASEMENTAREA_MEDI True\n",
      "YEARS_BEGINEXPLUATATION_MEDI True\n",
      "YEARS_BUILD_MEDI True\n",
      "COMMONAREA_MEDI True\n",
      "ELEVATORS_MEDI True\n",
      "ENTRANCES_MEDI True\n",
      "FLOORSMAX_MEDI True\n",
      "FLOORSMIN_MEDI True\n",
      "LANDAREA_MEDI True\n",
      "LIVINGAPARTMENTS_MEDI True\n",
      "LIVINGAREA_MEDI True\n",
      "NONLIVINGAPARTMENTS_MEDI True\n",
      "NONLIVINGAREA_MEDI True\n",
      "TOTALAREA_MODE True\n",
      "OBS_30_CNT_SOCIAL_CIRCLE True\n",
      "DEF_30_CNT_SOCIAL_CIRCLE True\n",
      "OBS_60_CNT_SOCIAL_CIRCLE True\n",
      "DAYS_LAST_PHONE_CHANGE True\n",
      "AMT_REQ_CREDIT_BUREAU_MON True\n",
      "AMT_REQ_CREDIT_BUREAU_QRT True\n",
      "AMT_REQ_CREDIT_BUREAU_YEAR True\n"
     ]
    }
   ],
   "source": [
    "#Let's see which numerical columns have outliers.\n",
    "for col in num_cols:\n",
    "    print(col, check_outlier(dff, col))"
   ]
  },
  {
   "cell_type": "code",
   "execution_count": 24,
   "metadata": {},
   "outputs": [
    {
     "name": "stdout",
     "output_type": "stream",
     "text": [
      "     PassengerId  Survived  Pclass                            Name   Sex  \\\n",
      "33            34         0       2           Wheadon, Mr. Edward H  male   \n",
      "54            55         0       1  Ostby, Mr. Engelhart Cornelius  male   \n",
      "96            97         0       1       Goldschmidt, Mr. George B  male   \n",
      "116          117         0       3            Connors, Mr. Patrick  male   \n",
      "280          281         0       3                Duane, Mr. Frank  male   \n",
      "\n",
      "      Age  SibSp  Parch      Ticket     Fare Cabin Embarked  \n",
      "33   66.0      0      0  C.A. 24579  10.5000   NaN        S  \n",
      "54   65.0      0      1      113509  61.9792   B30        C  \n",
      "96   71.0      0      0    PC 17754  34.6542    A5        C  \n",
      "116  70.5      0      0      370369   7.7500   NaN        Q  \n",
      "280  65.0      0      0      336439   7.7500   NaN        Q  \n"
     ]
    }
   ],
   "source": [
    "def grab_outliers(dataframe, col_name, outlier_index=False, f = 5):\n",
    "    low, up = outlier_thresholds(dataframe, col_name)\n",
    "\n",
    "    if dataframe[((dataframe[col_name] < low) | (dataframe[col_name] > up))].shape[0] > 10:\n",
    "        print(dataframe[((dataframe[col_name] < low) | (dataframe[col_name] > up))].head(f))\n",
    "    else:\n",
    "        print(dataframe[((dataframe[col_name] < low) | (dataframe[col_name] > up))])\n",
    "\n",
    "    if outlier_index:\n",
    "        out_index = dataframe[((dataframe[col_name] < low) | (dataframe[col_name] > up))].index\n",
    "        return out_index\n",
    "\n",
    "\n",
    "\n",
    "\n",
    "\n",
    "age_index = grab_outliers(df, \"Age\", True)"
   ]
  },
  {
   "cell_type": "code",
   "execution_count": 25,
   "metadata": {},
   "outputs": [
    {
     "name": "stdout",
     "output_type": "stream",
     "text": [
      "(891, 12)\n",
      "(775, 12)\n"
     ]
    }
   ],
   "source": [
    "#Let's import titanic data.\n",
    "df = load()\n",
    "#Remove Outliers..\n",
    "low, up = outlier_thresholds(df, \"Fare\")\n",
    "#Shape of data with outliers\n",
    "print(df.shape) \n",
    "#There are 116 outliers for 'Fare' variable, therefore if we only remove Fare outliers,\n",
    "print(df[~((df[\"Fare\"] < low) | (df[\"Fare\"] > up))].shape) \n",
    "\n"
   ]
  },
  {
   "cell_type": "code",
   "execution_count": 26,
   "metadata": {},
   "outputs": [
    {
     "name": "stdout",
     "output_type": "stream",
     "text": [
      "Observations: 891\n",
      "Variables: 12\n",
      "cat_cols: 6\n",
      "num_cols: 3\n",
      "cat_but_car: 3\n",
      "num_but_cat: 4\n"
     ]
    }
   ],
   "source": [
    "def remove_outlier(dataframe, col_name):\n",
    "    low_limit, up_limit = outlier_thresholds(dataframe, col_name)\n",
    "    df_without_outliers = dataframe[~((dataframe[col_name] < low_limit) | (dataframe[col_name] > up_limit))]\n",
    "    return df_without_outliers\n",
    "\n",
    "\n",
    "\n",
    "\n",
    "cat_cols, num_cols, cat_but_car = grab_col_names(df)"
   ]
  },
  {
   "cell_type": "code",
   "execution_count": 27,
   "metadata": {},
   "outputs": [
    {
     "name": "stdout",
     "output_type": "stream",
     "text": [
      "(765, 12)\n"
     ]
    }
   ],
   "source": [
    "num_cols.remove('PassengerId')\n",
    "\n",
    "for col in num_cols:\n",
    "    df = remove_outlier(df,col)\n",
    "#Now we removed 'Age' outliers and 'Fare' outliers. Age has 10 outliers and Fare has 116 outliers,\n",
    "#therefore we removed 126 outliers. \n",
    "print(df.shape) "
   ]
  },
  {
   "cell_type": "code",
   "execution_count": 29,
   "metadata": {},
   "outputs": [],
   "source": [
    "#Now we will assign outliers with thresholds. We can write a function for this\n",
    "def replace_with_thresholds(dataframe, variable):\n",
    "    low_limit, up_limit = outlier_thresholds(dataframe, variable)\n",
    "    dataframe.loc[(dataframe[variable] < low_limit), variable] = low_limit\n",
    "    dataframe.loc[(dataframe[variable] > up_limit), variable] = up_limit\n"
   ]
  },
  {
   "cell_type": "code",
   "execution_count": 30,
   "metadata": {},
   "outputs": [
    {
     "name": "stdout",
     "output_type": "stream",
     "text": [
      "Observations: 891\n",
      "Variables: 12\n",
      "cat_cols: 6\n",
      "num_cols: 3\n",
      "cat_but_car: 3\n",
      "num_but_cat: 4\n"
     ]
    }
   ],
   "source": [
    "#Import titanic data.\n",
    "df = load()\n",
    "\n",
    "\n",
    "\n",
    "\n",
    "cat_cols, num_cols, cat_but_car = grab_col_names(df)"
   ]
  },
  {
   "cell_type": "code",
   "execution_count": null,
   "metadata": {},
   "outputs": [],
   "source": []
  }
 ],
 "metadata": {
  "kernelspec": {
   "display_name": "Python 3",
   "language": "python",
   "name": "python3"
  },
  "language_info": {
   "codemirror_mode": {
    "name": "ipython",
    "version": 3
   },
   "file_extension": ".py",
   "mimetype": "text/x-python",
   "name": "python",
   "nbconvert_exporter": "python",
   "pygments_lexer": "ipython3",
   "version": "3.11.3"
  }
 },
 "nbformat": 4,
 "nbformat_minor": 2
}
